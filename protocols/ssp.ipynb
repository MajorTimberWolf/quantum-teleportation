{
 "cells": [
  {
   "cell_type": "code",
   "execution_count": null,
   "metadata": {},
   "outputs": [],
   "source": [
    "import numpy as np\n",
    "from qiskit import QuantumCircuit, QuantumRegister, ClassicalRegister, execute, BasicAer\n",
    "from qiskit.visualization import plot_histogram"
   ]
  },
  {
   "cell_type": "code",
   "execution_count": null,
   "metadata": {},
   "outputs": [],
   "source": [
    "#Define the three mutually unbiased bases (MUBs)\n",
    "X_basis = [1, 0]\n",
    "Y_basis = [1/np.sqrt(2), 1j/np.sqrt(2)]\n",
    "Z_basis = [1/np.sqrt(2), -1/np.sqrt(2)]"
   ]
  },
  {
   "cell_type": "code",
   "execution_count": null,
   "metadata": {},
   "outputs": [],
   "source": [
    "n = 16\n",
    "qr = QuantumRegister(n, name=\"qr\")\n",
    "cr = ClassicalRegister(n, name=\"cr\")"
   ]
  },
  {
   "cell_type": "code",
   "execution_count": null,
   "metadata": {},
   "outputs": [],
   "source": [
    "alice = QuantumCircuit(qr, cr, name = 'Alice')\n",
    "\n",
    "#generate a random sequence (bit) as the secret key\n",
    "alice_key = np.random.randint(0, high = 2, size = n)\n",
    "alice_bases = np.random.randint(0, high = 3, size = n) #0 for X, 1 for Y, 2 for Z\n",
    "\n",
    "for index, (bit, basis) in enumerate(zip(alice_key, alice_bases)):\n",
    "    if basis == 0:\n",
    "        if bit == 0:\n",
    "            alice.initialize(X_basis, qr[index])\n",
    "        else:\n",
    "            alice.x(qr[index])\n",
    "\n",
    "    elif basis == 1:\n",
    "        if bit == 0:\n",
    "            alice.initialize(Y_basis, qr[index])\n",
    "        else: \n",
    "            alice.y(qr[index])\n",
    "    else: \n",
    "        if bit == 0:\n",
    "            alice.initialize(Z_basis, qr[index])\n",
    "        else:\n",
    "            alice.z(qr[index])\n",
    "\n"
   ]
  },
  {
   "cell_type": "code",
   "execution_count": null,
   "metadata": {},
   "outputs": [],
   "source": [
    "bob = QuantumCircuit(qr, cr, name = 'Bob')\n",
    "\n",
    "bob_bases = np.random.randint(0, high = 3, size = n)"
   ]
  },
  {
   "cell_type": "code",
   "execution_count": null,
   "metadata": {},
   "outputs": [],
   "source": [
    "for index, basis in enumerate(bob_bases):\n",
    "    if basis == 0:\n",
    "        bob.initialize(X_basis, qr[index])\n",
    "    elif basis == 1:\n",
    "        bob.initialize(Y_basis, qr[index])\n",
    "    else: \n",
    "        bob.initialize(Z_basis, qr[index])\n",
    "\n",
    "    bob.measure(qr[index], cr[index])"
   ]
  },
  {
   "cell_type": "code",
   "execution_count": null,
   "metadata": {},
   "outputs": [],
   "source": [
    "backend = BasicAer.get_backend(\"qasm_simulator\")\n",
    "result = execute(bob, backend=backend, shots=1).result()\n",
    "plot_histogram(result.get_counts(bob))"
   ]
  },
  {
   "cell_type": "code",
   "execution_count": null,
   "metadata": {},
   "outputs": [],
   "source": [
    "bob_key = list(result.get_counts(bob))[0]\n",
    "bob_key = bob_key[::-1]"
   ]
  },
  {
   "cell_type": "code",
   "execution_count": null,
   "metadata": {},
   "outputs": [],
   "source": [
    "#Basic Reconciliation Process\n",
    "keep = []\n",
    "discard = []\n",
    "for qubit, (alice_basis, bob_basis) in enumerate(zip(alice_bases, bob_bases)):\n",
    "    if alice_basis == bob_basis:\n",
    "        print(f\"Same choice for qubit: {qubit}, basis: {alice_basis}\")\n",
    "        keep.append(qubit)\n",
    "    else:\n",
    "        print(\n",
    "            f\"Different choice for qubit: {qubit}, Alice has {alice_basis}, Bob has {bob_basis}\"\n",
    "        )\n",
    "        discard.append(qubit)"
   ]
  },
  {
   "cell_type": "code",
   "execution_count": null,
   "metadata": {},
   "outputs": [],
   "source": [
    "# Calculate % of qubits to be discarded and Measurement convergence\n",
    "acc = sum(alice_key[qubit] == int(bob_key[qubit]) for qubit in keep)\n",
    "print(\n",
    "    \"Percentage of qubits to be discarded according to basic reconciliation: \", (n - len(keep)) / n,\n",
    ")\n",
    "print(\"Measurement convergence by additional chance: \", acc / n)"
   ]
  },
  {
   "cell_type": "code",
   "execution_count": null,
   "metadata": {},
   "outputs": [],
   "source": [
    "# Extract the sifted keys after BR\n",
    "new_alice_key = [alice_key[qubit] for qubit in keep]\n",
    "new_bob_key = [int(bob_key[qubit]) for qubit in keep]"
   ]
  },
  {
   "cell_type": "code",
   "execution_count": null,
   "metadata": {},
   "outputs": [],
   "source": [
    "acc = sum(new_alice_key[i] == new_bob_key[i] for i in range(len(new_alice_key)))\n",
    "print(\"Percentage of similarity between the sifted keys:\", acc / len(new_alice_key))\n",
    "\n",
    "if acc == len(new_alice_key):\n",
    "    print(\"Key exchange has been successful\")\n",
    "    print(\"New Alice's key:\", new_alice_key)\n",
    "    print(\"New Bob's key:\", new_bob_key)\n",
    "else:\n",
    "    print(\"Key exchange has been tampered! Check for eavesdropper or try again\")\n",
    "    print(\"New Alice's key is invalid:\", new_alice_key)\n",
    "    print(\"New Bob's key is invalid:\", new_bob_key)"
   ]
  },
  {
   "cell_type": "code",
   "execution_count": null,
   "metadata": {},
   "outputs": [],
   "source": [
    "eve = QuantumCircuit(qr, cr, name=\"Eve\")"
   ]
  },
  {
   "cell_type": "code",
   "execution_count": null,
   "metadata": {},
   "outputs": [],
   "source": [
    "eve_bases = np.random.randint(0, high=3, size=n)  # 0 for X, 1 for Y, 2 for Z\n",
    "\n",
    "for index, basis in enumerate(eve_bases):\n",
    "    if basis == 0:  # Measure in X basis\n",
    "        eve.initialize(X_basis, qr[index])\n",
    "    elif basis == 1:  # Measure in Y basis\n",
    "        eve.initialize(Y_basis, qr[index])\n",
    "    else:  # Measure in Z basis\n",
    "        eve.initialize(Z_basis, qr[index])\n",
    "\n",
    "    eve.measure(qr[index], cr[index])"
   ]
  },
  {
   "cell_type": "code",
   "execution_count": null,
   "metadata": {},
   "outputs": [],
   "source": [
    "result = execute(eve, backend=backend, shots=1).result()\n",
    "eve_key = list(result.get_counts(eve))[0]\n",
    "eve_key = eve_key[::-1]"
   ]
  },
  {
   "cell_type": "code",
   "execution_count": null,
   "metadata": {},
   "outputs": [],
   "source": [
    "for qubit, (alice_basis, eve_basis) in enumerate(zip(alice_bases, eve_bases)):\n",
    "    if alice_basis != eve_basis:\n",
    "        if alice_basis == 0:\n",
    "            alice_basis = \"X\"\n",
    "        elif alice_basis == 1:\n",
    "            alice_basis = \"Y\"\n",
    "        else:\n",
    "            alice_basis = \"Z\"\n",
    "\n",
    "        if eve_basis == 0:\n",
    "            eve_basis = \"X\"\n",
    "        elif eve_basis == 1:\n",
    "            eve_basis = \"Y\"\n",
    "        else:\n",
    "            eve_basis = \"Z\"\n",
    "\n",
    "        print(\n",
    "            f\"Different choice for qubit: {qubit}, Alice has {alice_basis}, Eve has {eve_basis}\"\n",
    "        )\n",
    "\n",
    "        if eve_key[qubit] == alice_key[qubit]:\n",
    "            if alice_basis == \"X\":\n",
    "                eve.h(qr[qubit])\n",
    "            elif alice_basis == \"Y\":\n",
    "                eve.y(qr[qubit])\n",
    "            else:\n",
    "                eve.z(qr[qubit])\n",
    "        else:\n",
    "            if alice_basis == \"X\" and eve_basis == \"Z\":\n",
    "                eve.h(qr[qubit])\n",
    "                eve.x(qr[qubit])\n",
    "            elif alice_basis == \"X\" and eve_basis == \"Y\":\n",
    "                eve.y(qr[qubit])\n",
    "                eve.x(qr[qubit])\n",
    "            elif alice_basis == \"Y\" and eve_basis == \"X\":\n",
    "                eve.h(qr[qubit])\n",
    "                eve.y(qr[qubit])\n",
    "            elif alice_basis == \"Y\" and eve_basis == \"Z\":\n",
    "                eve.z(qr[qubit])\n",
    "                eve.x(qr[qubit])\n",
    "            elif alice_basis == \"Z\" and eve_basis == \"X\":\n",
    "                eve.h(qr[qubit])\n",
    "                eve.z(qr[qubit])\n",
    "            else:\n",
    "                eve.y(qr[qubit])\n",
    "                eve.z(qr[qubit])"
   ]
  },
  {
   "cell_type": "code",
   "execution_count": null,
   "metadata": {},
   "outputs": [],
   "source": [
    "for index in range(len(qr)):\n",
    "    eve.measure(qr[index], cr[index])\n",
    "\n",
    "result = execute(eve, backend=backend, shots=1).result()\n",
    "eve_key = list(result.get_counts(eve))[0]\n",
    "eve_key = eve_key[::-1]"
   ]
  },
  {
   "cell_type": "code",
   "execution_count": null,
   "metadata": {},
   "outputs": [],
   "source": [
    "for index in range(len(qr)):\n",
    "    bob.measure(qr[index], cr[index])\n",
    "\n",
    "result = execute(bob, backend=backend, shots=1).result()\n",
    "plot_histogram(result.get_counts(bob))\n",
    "\n"
   ]
  },
  {
   "cell_type": "code",
   "execution_count": null,
   "metadata": {},
   "outputs": [],
   "source": [
    "bob_key = list(result.get_counts(bob))[0]\n",
    "bob_key = bob_key[::-1]"
   ]
  },
  {
   "cell_type": "code",
   "execution_count": null,
   "metadata": {},
   "outputs": [],
   "source": [
    "keep = []\n",
    "discard = []\n",
    "for qubit, (alice_basis, bob_basis) in enumerate(zip(alice_bases, bob_bases)):\n",
    "    if alice_basis == bob_basis:\n",
    "        print(f\"Same choice for qubit: {qubit}, basis: {alice_basis}\")\n",
    "        keep.append(qubit)\n",
    "    else:\n",
    "        print(\n",
    "            f\"Different choice for qubit: {qubit}, Alice has {alice_basis}, Bob has {bob_basis}\"\n",
    "        )\n",
    "        discard.append(qubit)"
   ]
  },
  {
   "cell_type": "code",
   "execution_count": null,
   "metadata": {},
   "outputs": [],
   "source": [
    "new_alice_key = [alice_key[qubit] for qubit in keep]\n",
    "new_bob_key = [int(bob_key[qubit]) for qubit in keep]\n",
    "\n",
    "# Check if the sifted keys match after Eve's interference\n",
    "acc = sum(new_alice_key[i] == new_bob_key[i] for i in range(len(new_alice_key)))\n",
    "print(\n",
    "    \"Percentage of similarity between the sifted keys (after Eve):\",\n",
    "    acc / len(new_alice_key),\n",
    ")\n",
    "\n",
    "if acc == len(new_alice_key):\n",
    "    print(\"Key exchange has been successful (even after Eve's interference)\")\n",
    "else:\n",
    "    print(\"Key exchange has been tampered by Eve!\")"
   ]
  },
  {
   "cell_type": "code",
   "execution_count": null,
   "metadata": {},
   "outputs": [],
   "source": [
    "import qiskit\n",
    "qiskit.__qiskit_version__"
   ]
  },
  {
   "cell_type": "code",
   "execution_count": null,
   "metadata": {},
   "outputs": [],
   "source": []
  }
 ],
 "metadata": {
  "kernelspec": {
   "display_name": "quantum-env",
   "language": "python",
   "name": "python3"
  },
  "language_info": {
   "codemirror_mode": {
    "name": "ipython",
    "version": 3
   },
   "file_extension": ".py",
   "mimetype": "text/x-python",
   "name": "python",
   "nbconvert_exporter": "python",
   "pygments_lexer": "ipython3",
   "version": "3.11.5"
  }
 },
 "nbformat": 4,
 "nbformat_minor": 2
}
