{
 "cells": [
  {
   "cell_type": "markdown",
   "metadata": {},
   "source": [
    "How B92 implementation differs from BB84 implementation\n",
    "\n",
    "1. **Encoding the key bits**\n",
    "\n",
    "In BB84, Alice encodes the key bits using four states: `|0>`, `|1>`, `|+>`, and `|->`. This is done using a combination of `X` and `H` gates.\n",
    "\n",
    "In B92, Alice encodes the key bits using only two states: `|0>` for bit 0 and `|+>` for bit 1. This is done using the `initialize` method.\n",
    "\n",
    "2. **Bob's measurement basis**\n",
    "\n",
    "In BB84, Bob randomly chooses between two bases (`'X'` or `'Z'`) for each qubit.\n",
    "\n",
    "In B92, Bob randomly chooses between two non-orthogonal bases: {`|0>`, `|1>`} and {`|+>`, `|->`}.\n",
    "\n",
    "3. **Basis reconciliation**\n",
    "\n",
    "In BB84, Alice and Bob compare their choice of bases (`'X'` or `'Z'`) and keep only the bits where they used the same basis.\n",
    "\n",
    "In B92, Alice and Bob compare their choice of bases (`'Z'` for {`|0>`, `|1>`} and `'X'` for {`|+>`, `|->`}) and keep only the bits where they used the same basis.\n",
    "\n",
    "\n",
    "In summary, the main differences lie in the encoding of key bits using different quantum states, the measurement bases used by Bob, and the basis reconciliation step where Alice and Bob compare their choice of bases. The overall structure and the remaining steps, such as sifted key extraction and eavesdropper simulation, are similar in both implementations."
   ]
  },
  {
   "cell_type": "code",
   "execution_count": 131,
   "metadata": {},
   "outputs": [],
   "source": [
    "import numpy as np\n",
    "from qiskit import QuantumCircuit, ClassicalRegister, QuantumRegister, execute, BasicAer\n",
    "from qiskit.visualization import plot_histogram"
   ]
  },
  {
   "cell_type": "code",
   "execution_count": 132,
   "metadata": {},
   "outputs": [],
   "source": [
    "n = 16\n",
    "qr = QuantumRegister(n, name = 'qr')\n",
    "cr = ClassicalRegister(n, name = 'cr')"
   ]
  },
  {
   "cell_type": "code",
   "execution_count": 133,
   "metadata": {},
   "outputs": [],
   "source": [
    "alice = QuantumCircuit(qr, cr, name = 'Alice')\n",
    "#Generate a random sequence (bit) as the secret key\n",
    "alice_key = np.random.randint(0, high = 2, size = n)\n"
   ]
  },
  {
   "cell_type": "code",
   "execution_count": 134,
   "metadata": {},
   "outputs": [],
   "source": [
    "for index, bit in enumerate(alice_key):\n",
    "    if bit == 0:\n",
    "        alice.initialize([1, 0], qr[index])  #State |0>\n",
    "    else:\n",
    "        alice.initialize([1/np.sqrt(2), 1/np.sqrt(2)], qr[index])"
   ]
  },
  {
   "cell_type": "code",
   "execution_count": 135,
   "metadata": {},
   "outputs": [],
   "source": [
    "bob = QuantumCircuit(qr, cr, name = 'Bob')\n",
    "bob_bases = np.random.randint(0, high=2, size = n)\n",
    "\n",
    "for index, basis in enumerate(bob_bases):\n",
    "    if basis == 0:\n",
    "        bob.initialize([1, 0], qr[index])\n",
    "    else: \n",
    "        bob.initialize([1/np.sqrt(2), 1/np.sqrt(2)], qr[index])\n",
    "    \n",
    "    bob.measure(qr[index], cr[index])"
   ]
  },
  {
   "cell_type": "code",
   "execution_count": 136,
   "metadata": {},
   "outputs": [
    {
     "data": {
      "image/png": "[encoded data removed]",
      "text/plain": [
       "<Figure size 700x500 with 1 Axes>"
      ]
     },
     "execution_count": 136,
     "metadata": {},
     "output_type": "execute_result"
    }
   ],
   "source": [
    "backend = BasicAer.get_backend('qasm_simulator')\n",
    "result = execute(bob, backend=backend, shots=1).result()\n",
    "plot_histogram(result.get_counts(bob))"
   ]
  },
  {
   "cell_type": "code",
   "execution_count": 137,
   "metadata": {},
   "outputs": [],
   "source": [
    "bob_key = list(result.get_counts(bob))[0]\n",
    "bob_key = bob_key[::-1]"
   ]
  },
  {
   "cell_type": "code",
   "execution_count": 138,
   "metadata": {},
   "outputs": [
    {
     "name": "stdout",
     "output_type": "stream",
     "text": [
      "Same choice for qubit: 0, basis: X\n",
      "Same choice for qubit: 1, basis: Z\n",
      "Different choice for qubit: 2, Alice has X, Bob has Z\n",
      "Same choice for qubit: 3, basis: X\n",
      "Different choice for qubit: 4, Alice has Z, Bob has X\n",
      "Same choice for qubit: 5, basis: X\n",
      "Different choice for qubit: 6, Alice has Z, Bob has X\n",
      "Different choice for qubit: 7, Alice has X, Bob has Z\n",
      "Different choice for qubit: 8, Alice has X, Bob has Z\n",
      "Same choice for qubit: 9, basis: X\n",
      "Different choice for qubit: 10, Alice has Z, Bob has X\n",
      "Same choice for qubit: 11, basis: X\n",
      "Same choice for qubit: 12, basis: Z\n",
      "Different choice for qubit: 13, Alice has X, Bob has Z\n",
      "Same choice for qubit: 14, basis: Z\n",
      "Same choice for qubit: 15, basis: Z\n"
     ]
    }
   ],
   "source": [
    "#Basic reconciliation process\n",
    "\n",
    "keep = []\n",
    "discard = []\n",
    "for qubit, basis in enumerate(bob_bases):\n",
    "    if basis == 0:\n",
    "        bob_basis = 'Z'\n",
    "    else:\n",
    "        bob_basis = 'X'\n",
    "    \n",
    "\n",
    "    if alice_key[qubit] == 0:\n",
    "        alice_basis = 'Z'\n",
    "    else:\n",
    "        alice_basis = 'X'\n",
    "\n",
    "    if alice_basis == bob_basis:\n",
    "        print(f\"Same choice for qubit: {qubit}, basis: {alice_basis}\")\n",
    "        keep.append(qubit)\n",
    "    else:\n",
    "        print(f\"Different choice for qubit: {qubit}, Alice has {alice_basis}, Bob has {bob_basis}\")\n",
    "        discard.append(qubit)"
   ]
  },
  {
   "cell_type": "code",
   "execution_count": 139,
   "metadata": {},
   "outputs": [
    {
     "name": "stdout",
     "output_type": "stream",
     "text": [
      "Percentage of qubits to be discarded according to basic reconciliation:  0.4375\n",
      "Measurement convergence by additional chance:  0.4375\n"
     ]
    }
   ],
   "source": [
    "#Calculate % of qubits to be discarded and Measurement convergence\n",
    "acc = sum(alice_key[qubit] == int(bob_key[qubit]) for qubit in keep)\n",
    "print('Percentage of qubits to be discarded according to basic reconciliation: ', (n - len(keep)) / n)\n",
    "print('Measurement convergence by additional chance: ', acc / n)"
   ]
  },
  {
   "cell_type": "code",
   "execution_count": 140,
   "metadata": {},
   "outputs": [],
   "source": [
    "#Extract the sifted keys after BR\n",
    "new_alice_key = [alice_key[qubit] for qubit in keep]\n",
    "new_bob_key = [int(bob_key[qubit]) for qubit in keep]\n"
   ]
  },
  {
   "cell_type": "code",
   "execution_count": 141,
   "metadata": {},
   "outputs": [
    {
     "name": "stdout",
     "output_type": "stream",
     "text": [
      "Percentage of similarity between the sifted keys: 0.7777777777777778\n",
      "Key exchange has been tampered! Check for eavesdropper or try again\n",
      "New Alice's key is invalid: [1, 0, 1, 1, 1, 1, 0, 0, 0]\n",
      "New Bob's key is invalid: [0, 0, 1, 1, 1, 0, 0, 0, 0]\n"
     ]
    }
   ],
   "source": [
    "acc = sum(new_alice_key[i] == new_bob_key[i] for i in range(len(new_alice_key)))\n",
    "print('Percentage of similarity between the sifted keys:', acc / len(new_alice_key))\n",
    "\n",
    "if acc == len(new_alice_key):\n",
    "    print(\"Key exchange has been successful\")\n",
    "    print(\"New Alice's key:\", new_alice_key)\n",
    "    print(\"New Bob's key:\", new_bob_key)\n",
    "else:\n",
    "    print(\"Key exchange has been tampered! Check for eavesdropper or try again\")\n",
    "    print(\"New Alice's key is invalid:\", new_alice_key)\n",
    "    print(\"New Bob's key is invalid:\", new_bob_key)"
   ]
  },
  {
   "cell_type": "code",
   "execution_count": 142,
   "metadata": {},
   "outputs": [],
   "source": [
    "eve = QuantumCircuit(qr, cr, name='Eve')"
   ]
  },
  {
   "cell_type": "code",
   "execution_count": 143,
   "metadata": {},
   "outputs": [],
   "source": [
    "eve_bases = np.random.randint(0, high=2, size=n)\n",
    "\n",
    "for index, basis in enumerate(eve_bases):\n",
    "    if basis == 0:\n",
    "        eve.initialize([1, 0], qr[index])  # Measure in {|0>, |1>} basis\n",
    "    else:\n",
    "        eve.initialize([1/np.sqrt(2), 1/np.sqrt(2)], qr[index])  # Measure in {|+>, |->} basis\n",
    "\n",
    "    eve.measure(qr[index], cr[index])\n",
    "\n",
    "result = execute(eve, backend=backend, shots=1).result()\n",
    "eve_key = list(result.get_counts(eve))[0]\n",
    "eve_key = eve_key[::-1]"
   ]
  },
  {
   "cell_type": "code",
   "execution_count": 144,
   "metadata": {},
   "outputs": [
    {
     "name": "stdout",
     "output_type": "stream",
     "text": [
      "Different choice for qubit: 1, Alice has Z, Eve has X\n",
      "Different choice for qubit: 2, Alice has X, Eve has Z\n",
      "Different choice for qubit: 5, Alice has X, Eve has Z\n",
      "Different choice for qubit: 7, Alice has X, Eve has Z\n",
      "Different choice for qubit: 9, Alice has X, Eve has Z\n",
      "Different choice for qubit: 10, Alice has Z, Eve has X\n",
      "Different choice for qubit: 11, Alice has X, Eve has Z\n",
      "Different choice for qubit: 12, Alice has Z, Eve has X\n"
     ]
    }
   ],
   "source": [
    "for qubit, basis in enumerate(eve_bases):\n",
    "    if basis == 0:\n",
    "        eve_basis = 'Z'\n",
    "    else:\n",
    "        eve_basis = 'X'\n",
    "    \n",
    "    if alice_key[qubit] == 0:\n",
    "        alice_basis = 'Z'\n",
    "    else:\n",
    "        alice_basis = 'X'\n",
    "\n",
    "    if alice_basis != eve_basis:\n",
    "        print(f\"Different choice for qubit: {qubit}, Alice has {alice_basis}, Eve has {eve_basis}\")\n",
    "        if eve_key[qubit] == alice_key[qubit]:\n",
    "            eve.h(qr[qubit])\n",
    "        else:\n",
    "            if alice_basis == 'X' and eve_basis == 'Z':\n",
    "                eve.h(qr[qubit])\n",
    "                eve.x(qr[qubit])\n",
    "            else: \n",
    "                eve.x(qr[qubit])\n",
    "                eve.h(qr[qubit])\n",
    "                "
   ]
  },
  {
   "cell_type": "code",
   "execution_count": 145,
   "metadata": {},
   "outputs": [],
   "source": [
    "#Eve sends modified state to Bob\n",
    "for index in range(len(qr)):\n",
    "    eve.measure(qr[index], cr[index])\n",
    "\n",
    "result = execute(eve, backend=backend, shots=1).result()\n",
    "eve_key = list(result.get_counts(eve))[0]\n",
    "eve_key = eve_key[::-1]"
   ]
  },
  {
   "cell_type": "code",
   "execution_count": 146,
   "metadata": {},
   "outputs": [],
   "source": [
    "# Bob measures the modified state\n",
    "for index in range(len(qr)):\n",
    "    bob.measure(qr[index], cr[index])\n",
    "\n",
    "result = execute(bob, backend=backend, shots = 1).result()\n",
    "plot_histogram(result.get_counts(bob))\n",
    "\n",
    "bob_key = list(result.get_counts(bob))[0]\n",
    "bob_key = bob_key[::-1]"
   ]
  },
  {
   "cell_type": "code",
   "execution_count": 147,
   "metadata": {},
   "outputs": [
    {
     "name": "stdout",
     "output_type": "stream",
     "text": [
      "Same choice for qubit: 0, basis: X\n",
      "Same choice for qubit: 1, basis: Z\n",
      "Different choice for qubit: 2, Alice has X, Bob has Z\n",
      "Same choice for qubit: 3, basis: X\n",
      "Different choice for qubit: 4, Alice has Z, Bob has X\n",
      "Same choice for qubit: 5, basis: X\n",
      "Different choice for qubit: 6, Alice has Z, Bob has X\n",
      "Different choice for qubit: 7, Alice has X, Bob has Z\n",
      "Different choice for qubit: 8, Alice has X, Bob has Z\n",
      "Same choice for qubit: 9, basis: X\n",
      "Different choice for qubit: 10, Alice has Z, Bob has X\n",
      "Same choice for qubit: 11, basis: X\n",
      "Same choice for qubit: 12, basis: Z\n",
      "Different choice for qubit: 13, Alice has X, Bob has Z\n",
      "Same choice for qubit: 14, basis: Z\n",
      "Same choice for qubit: 15, basis: Z\n"
     ]
    }
   ],
   "source": [
    "# Perform basis reconciliation between Alice and Bob (after Eve's interference)\n",
    "keep = []\n",
    "discard = []\n",
    "for qubit, basis in enumerate(bob_bases):\n",
    "    if basis == 0:\n",
    "        bob_basis = 'Z'\n",
    "    else:\n",
    "        bob_basis = 'X'\n",
    "\n",
    "    if alice_key[qubit] == 0:\n",
    "        alice_basis = 'Z'\n",
    "    else:\n",
    "        alice_basis = 'X'\n",
    "\n",
    "    if alice_basis == bob_basis:\n",
    "        print(f\"Same choice for qubit: {qubit}, basis: {alice_basis}\")\n",
    "        keep.append(qubit)\n",
    "    else:\n",
    "        print(f\"Different choice for qubit: {qubit}, Alice has {alice_basis}, Bob has {bob_basis}\")\n",
    "        discard.append(qubit)"
   ]
  },
  {
   "cell_type": "code",
   "execution_count": 148,
   "metadata": {},
   "outputs": [],
   "source": [
    "new_alice_key = [alice_key[qubit] for qubit in keep]\n",
    "new_bob_key = [int(bob_key[qubit]) for qubit in keep]"
   ]
  },
  {
   "cell_type": "code",
   "execution_count": 149,
   "metadata": {},
   "outputs": [
    {
     "name": "stdout",
     "output_type": "stream",
     "text": [
      "Percentage of similarity between the sifted keys (after Eve): 0.4444444444444444\n",
      "Key exchange has been tampered by Eve!\n"
     ]
    }
   ],
   "source": [
    "acc = sum(new_alice_key[i] == new_bob_key[i] for i in range(len(new_alice_key)))\n",
    "print('Percentage of similarity between the sifted keys (after Eve):', acc / len(new_alice_key))\n",
    "\n",
    "if acc == len(new_alice_key):\n",
    "    print(\"Key exchange has been successful (even after Eve's interference)\")\n",
    "else:\n",
    "    print(\"Key exchange has been tampered by Eve!\")"
   ]
  },
  {
   "cell_type": "code",
   "execution_count": 150,
   "metadata": {},
   "outputs": [
    {
     "data": {
      "text/plain": [
       "{'qiskit': '0.45.2', 'qiskit-aer': '0.13.3', 'qiskit-ignis': None, 'qiskit-ibmq-provider': None, 'qiskit-nature': None, 'qiskit-finance': None, 'qiskit-optimization': None, 'qiskit-machine-learning': None}"
      ]
     },
     "execution_count": 150,
     "metadata": {},
     "output_type": "execute_result"
    }
   ],
   "source": [
    "import qiskit\n",
    "qiskit.__qiskit_version__"
   ]
  }
 ],
 "metadata": {
  "kernelspec": {
   "display_name": "quantum-env",
   "language": "python",
   "name": "python3"
  },
  "language_info": {
   "codemirror_mode": {
    "name": "ipython",
    "version": 3
   },
   "file_extension": ".py",
   "mimetype": "text/x-python",
   "name": "python",
   "nbconvert_exporter": "python",
   "pygments_lexer": "ipython3",
   "version": "3.11.6"
  }
 },
 "nbformat": 4,
 "nbformat_minor": 2
}
