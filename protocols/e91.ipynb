{
 "cells": [
  {
   "cell_type": "code",
   "execution_count": 1,
   "metadata": {},
   "outputs": [],
   "source": [
    "# useful additional packages \n",
    "import numpy as np\n",
    "import random\n",
    "# regular expressions module\n",
    "import re\n",
    "\n",
    "# importing the QISKit\n",
    "from qiskit import QuantumCircuit, QuantumRegister, ClassicalRegister, execute, BasicAer\n",
    "\n",
    "# import basic plot tools\n",
    "from qiskit.tools.visualization import circuit_drawer, plot_histogram"
   ]
  },
  {
   "cell_type": "code",
   "execution_count": 2,
   "metadata": {},
   "outputs": [],
   "source": [
    "# Creating registers\n",
    "qr = QuantumRegister(2, name=\"qr\")\n",
    "cr = ClassicalRegister(4, name=\"cr\")"
   ]
  },
  {
   "cell_type": "code",
   "execution_count": 3,
   "metadata": {},
   "outputs": [
    {
     "data": {
      "text/plain": [
       "<qiskit.circuit.instructionset.InstructionSet at 0x261e9fb54b0>"
      ]
     },
     "execution_count": 3,
     "metadata": {},
     "output_type": "execute_result"
    }
   ],
   "source": [
    "singlet = QuantumCircuit(qr, cr, name='singlet')\n",
    "singlet.x(qr[0])\n",
    "singlet.x(qr[1])\n",
    "singlet.h(qr[0])\n",
    "singlet.cx(qr[0],qr[1])"
   ]
  },
  {
   "cell_type": "code",
   "execution_count": 4,
   "metadata": {},
   "outputs": [],
   "source": [
    "## Alice's measurement circuits\n",
    "\n",
    "# measure the spin projection of Alice's qubit onto the a_1 direction (X basis)\n",
    "measureA1 = QuantumCircuit(qr, cr, name='measureA1')\n",
    "measureA1.h(qr[0])\n",
    "measureA1.measure(qr[0],cr[0])\n",
    "\n",
    "# measure the spin projection of Alice's qubit onto the a_2 direction (W basis)\n",
    "measureA2 = QuantumCircuit(qr, cr, name='measureA2')\n",
    "measureA2.s(qr[0])\n",
    "measureA2.h(qr[0])\n",
    "measureA2.t(qr[0])\n",
    "measureA2.h(qr[0])\n",
    "measureA2.measure(qr[0],cr[0])\n",
    "\n",
    "# measure the spin projection of Alice's qubit onto the a_3 direction (standard Z basis)\n",
    "measureA3 = QuantumCircuit(qr, cr, name='measureA3')\n",
    "measureA3.measure(qr[0],cr[0])\n",
    "\n",
    "## Bob's measurement circuits\n",
    "\n",
    "# measure the spin projection of Bob's qubit onto the b_1 direction (W basis)\n",
    "measureB1 = QuantumCircuit(qr, cr, name='measureB1')\n",
    "measureB1.s(qr[1])\n",
    "measureB1.h(qr[1])\n",
    "measureB1.t(qr[1])\n",
    "measureB1.h(qr[1])\n",
    "measureB1.measure(qr[1],cr[1])\n",
    "\n",
    "# measure the spin projection of Bob's qubit onto the b_2 direction (standard Z basis)\n",
    "measureB2 = QuantumCircuit(qr, cr, name='measureB2')\n",
    "measureB2.measure(qr[1],cr[1])\n",
    "\n",
    "# measure the spin projection of Bob's qubit onto the b_3 direction (V basis)\n",
    "measureB3 = QuantumCircuit(qr, cr, name='measureB3')\n",
    "measureB3.s(qr[1])\n",
    "measureB3.h(qr[1])\n",
    "measureB3.tdg(qr[1])\n",
    "measureB3.h(qr[1])\n",
    "measureB3.measure(qr[1],cr[1])\n",
    "\n",
    "## Lists of measurement circuits\n",
    "aliceMeasurements = [measureA1, measureA2, measureA3]\n",
    "bobMeasurements = [measureB1, measureB2, measureB3]"
   ]
  },
  {
   "cell_type": "code",
   "execution_count": 6,
   "metadata": {},
   "outputs": [],
   "source": [
    "numberOfSinglets = 500"
   ]
  },
  {
   "cell_type": "code",
   "execution_count": 7,
   "metadata": {},
   "outputs": [],
   "source": [
    "aliceMeasurementChoices = [random.randint(1, 3) for i in range(numberOfSinglets)] # string b of Alice\n",
    "bobMeasurementChoices = [random.randint(1, 3) for i in range(numberOfSinglets)] # string b' of Bob"
   ]
  },
  {
   "cell_type": "code",
   "execution_count": 23,
   "metadata": {},
   "outputs": [
    {
     "name": "stdout",
     "output_type": "stream",
     "text": [
      "0:A2_B3\n",
      "      ┌───┐┌───┐     \n",
      "qr_0: ┤ X ├┤ H ├──■──\n",
      "      ├───┤└───┘┌─┴─┐\n",
      "qr_1: ┤ X ├─────┤ X ├\n",
      "      └───┘     └───┘\n",
      "cr: 4/═══════════════\n",
      "                     \n"
     ]
    },
    {
     "ename": "TypeError",
     "evalue": "unsupported operand type(s) for +: 'QuantumCircuit' and 'QuantumCircuit'",
     "output_type": "error",
     "traceback": [
      "\u001b[1;31m---------------------------------------------------------------------------\u001b[0m",
      "\u001b[1;31mTypeError\u001b[0m                                 Traceback (most recent call last)",
      "Cell \u001b[1;32mIn[23], line 12\u001b[0m\n\u001b[0;32m      8\u001b[0m \u001b[38;5;66;03m# create the joint measurement circuit\u001b[39;00m\n\u001b[0;32m      9\u001b[0m \u001b[38;5;66;03m# add Alice's and Bob's measurement circuits to the singlet state curcuit\u001b[39;00m\n\u001b[0;32m     10\u001b[0m \u001b[38;5;66;03m# singlet state circuit # measurement circuit of Alice # measurement circuit of Bob\u001b[39;00m\n\u001b[0;32m     11\u001b[0m \u001b[38;5;28mprint\u001b[39m(singlet)\n\u001b[1;32m---> 12\u001b[0m circuitName \u001b[38;5;241m=\u001b[39m singlet \u001b[38;5;241m+\u001b[39m aliceMeasurements[aliceMeasurementChoices[i]\u001b[38;5;241m-\u001b[39m\u001b[38;5;241m1\u001b[39m] \u001b[38;5;241m+\u001b[39m bobMeasurements[bobMeasurementChoices[i]\u001b[38;5;241m-\u001b[39m\u001b[38;5;241m1\u001b[39m] \n\u001b[0;32m     13\u001b[0m \u001b[38;5;28mprint\u001b[39m(circuitName)\n\u001b[0;32m     15\u001b[0m \u001b[38;5;66;03m# add the created circuit to the circuits list\u001b[39;00m\n",
      "\u001b[1;31mTypeError\u001b[0m: unsupported operand type(s) for +: 'QuantumCircuit' and 'QuantumCircuit'"
     ]
    }
   ],
   "source": [
    "circuits = [] # the list in which the created circuits will be stored\n",
    "\n",
    "for i in range(numberOfSinglets):\n",
    "    # create the name of the i-th circuit depending on Alice's and Bob's measurement choices\n",
    "    circuitName = str(i) + ':A' + str(aliceMeasurementChoices[i]) + '_B' + str(bobMeasurementChoices[i])\n",
    "    print(circuitName)\n",
    "    \n",
    "    # create the joint measurement circuit\n",
    "    # add Alice's and Bob's measurement circuits to the singlet state curcuit\n",
    "    # singlet state circuit # measurement circuit of Alice # measurement circuit of Bob\n",
    "    print(singlet)\n",
    "    circuitName = singlet + aliceMeasurements[aliceMeasurementChoices[i]-1] + bobMeasurements[bobMeasurementChoices[i]-1] \n",
    "    print(circuitName)\n",
    "    \n",
    "    # add the created circuit to the circuits list\n",
    "    circuits.append(circuitName)"
   ]
  }
 ],
 "metadata": {
  "kernelspec": {
   "display_name": "Python 3",
   "language": "python",
   "name": "python3"
  },
  "language_info": {
   "codemirror_mode": {
    "name": "ipython",
    "version": 3
   },
   "file_extension": ".py",
   "mimetype": "text/x-python",
   "name": "python",
   "nbconvert_exporter": "python",
   "pygments_lexer": "ipython3",
   "version": "3.11.0"
  }
 },
 "nbformat": 4,
 "nbformat_minor": 2
}
